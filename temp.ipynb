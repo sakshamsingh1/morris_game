{
 "cells": [
  {
   "cell_type": "code",
   "execution_count": 1,
   "outputs": [],
   "source": [
    "%load_ext autoreload\n",
    "%autoreload 2"
   ],
   "metadata": {
    "collapsed": false,
    "ExecuteTime": {
     "end_time": "2023-07-08T21:28:44.945980Z",
     "start_time": "2023-07-08T21:28:44.916090Z"
    }
   }
  },
  {
   "cell_type": "code",
   "execution_count": 3,
   "metadata": {
    "collapsed": true,
    "ExecuteTime": {
     "end_time": "2023-07-08T21:28:46.685046Z",
     "start_time": "2023-07-08T21:28:46.536712Z"
    }
   },
   "outputs": [],
   "source": [
    "from utils import visualize"
   ]
  },
  {
   "cell_type": "code",
   "execution_count": 42,
   "outputs": [
    {
     "data": {
      "text/plain": "21"
     },
     "execution_count": 42,
     "metadata": {},
     "output_type": "execute_result"
    }
   ],
   "source": [
    "len('xxxBxWxWWWBBBBxxxxxxx')"
   ],
   "metadata": {
    "collapsed": false,
    "ExecuteTime": {
     "end_time": "2023-07-03T04:01:18.519356Z",
     "start_time": "2023-07-03T04:01:18.485343Z"
    }
   }
  },
  {
   "cell_type": "code",
   "execution_count": 47,
   "outputs": [
    {
     "name": "stdout",
     "output_type": "stream",
     "text": [
      "Unexpected exception formatting exception. Falling back to standard exception\n"
     ]
    },
    {
     "name": "stderr",
     "output_type": "stream",
     "text": [
      "Traceback (most recent call last):\n",
      "  File \"/Users/sakshamsingh/anaconda3/envs/ZS_audio_text/lib/python3.8/site-packages/IPython/core/interactiveshell.py\", line 3505, in run_code\n",
      "    exec(code_obj, self.user_global_ns, self.user_ns)\n",
      "  File \"/var/folders/xj/c35k0_qn75schf0g17075f540000gn/T/ipykernel_21953/119728905.py\", line 4, in <module>\n",
      "    MiniMaxOpening(input_file, output_file, depth)\n",
      "  File \"/Users/sakshamsingh/Desktop/ai_project/morris_game/minmax.py\", line 52, in MiniMaxOpening\n",
      "    best_move, num_evaluations, minimax_estimate = maxMin(input_position, depth, phase='opening')\n",
      "  File \"/Users/sakshamsingh/Desktop/ai_project/morris_game/minmax.py\", line 17, in maxMin\n",
      "    evaluation = minMax(move, depth - 1)[2]\n",
      "  File \"/Users/sakshamsingh/Desktop/ai_project/morris_game/minmax.py\", line 31, in minMax\n",
      "    evaluation = baseStaticEstimate(position).opening_est()\n",
      "  File \"/Users/sakshamsingh/Desktop/ai_project/morris_game/morris.py\", line 79, in __init__\n",
      "    self.num_black_moves = len(blackGenerateMovesMidgameEndgame(board))\n",
      "  File \"/Users/sakshamsingh/Desktop/ai_project/morris_game/morris.py\", line 73, in blackGenerateMovesMidgameEndgame\n",
      "    cand_pos = GenerateMovesMidgameEndgame(board.replace(\"W\", \"B\").replace(\"B\", \"W\"))\n",
      "AttributeError: 'list' object has no attribute 'replace'\n",
      "\n",
      "During handling of the above exception, another exception occurred:\n",
      "\n",
      "Traceback (most recent call last):\n",
      "  File \"/Users/sakshamsingh/anaconda3/envs/ZS_audio_text/lib/python3.8/site-packages/IPython/core/interactiveshell.py\", line 2102, in showtraceback\n",
      "    stb = self.InteractiveTB.structured_traceback(\n",
      "  File \"/Users/sakshamsingh/anaconda3/envs/ZS_audio_text/lib/python3.8/site-packages/IPython/core/ultratb.py\", line 1310, in structured_traceback\n",
      "    return FormattedTB.structured_traceback(\n",
      "  File \"/Users/sakshamsingh/anaconda3/envs/ZS_audio_text/lib/python3.8/site-packages/IPython/core/ultratb.py\", line 1199, in structured_traceback\n",
      "    return VerboseTB.structured_traceback(\n",
      "  File \"/Users/sakshamsingh/anaconda3/envs/ZS_audio_text/lib/python3.8/site-packages/IPython/core/ultratb.py\", line 1052, in structured_traceback\n",
      "    formatted_exception = self.format_exception_as_a_whole(etype, evalue, etb, number_of_lines_of_context,\n",
      "  File \"/Users/sakshamsingh/anaconda3/envs/ZS_audio_text/lib/python3.8/site-packages/IPython/core/ultratb.py\", line 978, in format_exception_as_a_whole\n",
      "    frames.append(self.format_record(record))\n",
      "  File \"/Users/sakshamsingh/anaconda3/envs/ZS_audio_text/lib/python3.8/site-packages/IPython/core/ultratb.py\", line 878, in format_record\n",
      "    frame_info.lines, Colors, self.has_colors, lvals\n",
      "  File \"/Users/sakshamsingh/anaconda3/envs/ZS_audio_text/lib/python3.8/site-packages/IPython/core/ultratb.py\", line 712, in lines\n",
      "    return self._sd.lines\n",
      "  File \"/Users/sakshamsingh/anaconda3/envs/ZS_audio_text/lib/python3.8/site-packages/stack_data/utils.py\", line 145, in cached_property_wrapper\n",
      "    value = obj.__dict__[self.func.__name__] = self.func(obj)\n",
      "  File \"/Users/sakshamsingh/anaconda3/envs/ZS_audio_text/lib/python3.8/site-packages/stack_data/core.py\", line 698, in lines\n",
      "    pieces = self.included_pieces\n",
      "  File \"/Users/sakshamsingh/anaconda3/envs/ZS_audio_text/lib/python3.8/site-packages/stack_data/utils.py\", line 145, in cached_property_wrapper\n",
      "    value = obj.__dict__[self.func.__name__] = self.func(obj)\n",
      "  File \"/Users/sakshamsingh/anaconda3/envs/ZS_audio_text/lib/python3.8/site-packages/stack_data/core.py\", line 649, in included_pieces\n",
      "    pos = scope_pieces.index(self.executing_piece)\n",
      "  File \"/Users/sakshamsingh/anaconda3/envs/ZS_audio_text/lib/python3.8/site-packages/stack_data/utils.py\", line 145, in cached_property_wrapper\n",
      "    value = obj.__dict__[self.func.__name__] = self.func(obj)\n",
      "  File \"/Users/sakshamsingh/anaconda3/envs/ZS_audio_text/lib/python3.8/site-packages/stack_data/core.py\", line 628, in executing_piece\n",
      "    return only(\n",
      "  File \"/Users/sakshamsingh/anaconda3/envs/ZS_audio_text/lib/python3.8/site-packages/executing/executing.py\", line 164, in only\n",
      "    raise NotOneValueFound('Expected one value, found 0')\n",
      "executing.executing.NotOneValueFound: Expected one value, found 0\n"
     ]
    }
   ],
   "source": [
    "input_file = 'sample_input.txt'\n",
    "output_file = 'sample_output.txt'\n",
    "depth = 1\n",
    "MiniMaxOpening(input_file, output_file, depth)"
   ],
   "metadata": {
    "collapsed": false,
    "ExecuteTime": {
     "end_time": "2023-07-03T04:16:22.833928Z",
     "start_time": "2023-07-03T04:16:22.780691Z"
    }
   }
  },
  {
   "cell_type": "code",
   "execution_count": 53,
   "outputs": [
    {
     "data": {
      "text/plain": "22"
     },
     "execution_count": 53,
     "metadata": {},
     "output_type": "execute_result"
    }
   ],
   "source": [
    "len('xxxxxxxxWWxxxxBBBxxxx')"
   ],
   "metadata": {
    "collapsed": false,
    "ExecuteTime": {
     "end_time": "2023-07-04T00:05:08.500543Z",
     "start_time": "2023-07-04T00:05:08.477462Z"
    }
   }
  },
  {
   "cell_type": "code",
   "execution_count": 4,
   "outputs": [
    {
     "name": "stdout",
     "output_type": "stream",
     "text": [
      "W---------------------.---------------------.\n",
      "|                     |                     |\n",
      "|       .-------------B--------------.      |\n",
      "|       |             |              |      |\n",
      "|       |         .---.---W          |      |\n",
      "|       |         |       |          |      |\n",
      ".-------.---------.       .----------.------.\n",
      "|       |         |       |          |      |\n",
      "|       |         .-------B          |      |\n",
      "|       |                            |      |\n",
      "|       W----------------------------B      |\n",
      "|                                           |\n",
      ".-------------------------------------------W\n",
      "\n",
      "\n"
     ]
    }
   ],
   "source": [
    "# board = ['W']*24\n",
    "board = list('xWWBxBxxxxxxxxWxBxWxx')\n",
    "visualize(board)"
   ],
   "metadata": {
    "collapsed": false,
    "ExecuteTime": {
     "end_time": "2023-07-08T21:28:48.555392Z",
     "start_time": "2023-07-08T21:28:48.536696Z"
    }
   }
  },
  {
   "cell_type": "code",
   "execution_count": 5,
   "outputs": [
    {
     "name": "stdout",
     "output_type": "stream",
     "text": [
      "W---------------------.---------------------.\n",
      "|                     |                     |\n",
      "|       .-------------B--------------.      |\n",
      "|       |             |              |      |\n",
      "|       |         .---.---W          |      |\n",
      "|       |         |       |          |      |\n",
      ".-------.---------.       .----------.------.\n",
      "|       |         |       |          |      |\n",
      "|       |         .-------B          |      |\n",
      "|       |                            |      |\n",
      "|       W----------------------------B      |\n",
      "|                                           |\n",
      "W-------------------------------------------W\n",
      "\n",
      "\n"
     ]
    }
   ],
   "source": [
    "board = list('WWWBxBxxxxxxxxWxBxWxx')\n",
    "visualize(board)"
   ],
   "metadata": {
    "collapsed": false,
    "ExecuteTime": {
     "end_time": "2023-07-08T21:30:50.134768Z",
     "start_time": "2023-07-08T21:30:50.070113Z"
    }
   }
  },
  {
   "cell_type": "code",
   "execution_count": 5,
   "outputs": [
    {
     "data": {
      "text/plain": "4"
     },
     "execution_count": 5,
     "metadata": {},
     "output_type": "execute_result"
    }
   ],
   "source": [
    "board.count('W')"
   ],
   "metadata": {
    "collapsed": false,
    "ExecuteTime": {
     "end_time": "2023-06-27T04:05:32.055020Z",
     "start_time": "2023-06-27T04:05:32.034800Z"
    }
   }
  },
  {
   "cell_type": "code",
   "execution_count": 19,
   "outputs": [],
   "source": [
    "b = board[:]"
   ],
   "metadata": {
    "collapsed": false,
    "ExecuteTime": {
     "end_time": "2023-06-26T04:38:47.164435Z",
     "start_time": "2023-06-26T04:38:47.151590Z"
    }
   }
  },
  {
   "cell_type": "code",
   "execution_count": 23,
   "outputs": [
    {
     "data": {
      "text/plain": "('BxxBxWxWWWBBBBxxxxxxx', 'xxxBxWxWWWBBBBxxxxxxx')"
     },
     "execution_count": 23,
     "metadata": {},
     "output_type": "execute_result"
    }
   ],
   "source": [
    "b[0] = 'B'\n",
    "\"\".join(b), \"\".join(board)"
   ],
   "metadata": {
    "collapsed": false,
    "ExecuteTime": {
     "end_time": "2023-06-26T04:40:19.098945Z",
     "start_time": "2023-06-26T04:40:19.080978Z"
    }
   }
  },
  {
   "cell_type": "code",
   "execution_count": 17,
   "outputs": [
    {
     "ename": "TypeError",
     "evalue": "'str' object does not support item assignment",
     "output_type": "error",
     "traceback": [
      "\u001B[0;31m---------------------------------------------------------------------------\u001B[0m",
      "\u001B[0;31mTypeError\u001B[0m                                 Traceback (most recent call last)",
      "Cell \u001B[0;32mIn[17], line 1\u001B[0m\n\u001B[0;32m----> 1\u001B[0m b[\u001B[38;5;241m0\u001B[39m]\u001B[38;5;241m=\u001B[39m\u001B[38;5;124m'\u001B[39m\u001B[38;5;124mB\u001B[39m\u001B[38;5;124m'\u001B[39m\n\u001B[1;32m      2\u001B[0m b, board\n",
      "\u001B[0;31mTypeError\u001B[0m: 'str' object does not support item assignment"
     ]
    }
   ],
   "source": [],
   "metadata": {
    "collapsed": false,
    "ExecuteTime": {
     "end_time": "2023-06-26T04:36:37.974857Z",
     "start_time": "2023-06-26T04:36:37.955659Z"
    }
   }
  },
  {
   "cell_type": "code",
   "execution_count": null,
   "outputs": [],
   "source": [],
   "metadata": {
    "collapsed": false
   }
  }
 ],
 "metadata": {
  "kernelspec": {
   "display_name": "Python 3",
   "language": "python",
   "name": "python3"
  },
  "language_info": {
   "codemirror_mode": {
    "name": "ipython",
    "version": 2
   },
   "file_extension": ".py",
   "mimetype": "text/x-python",
   "name": "python",
   "nbconvert_exporter": "python",
   "pygments_lexer": "ipython2",
   "version": "2.7.6"
  }
 },
 "nbformat": 4,
 "nbformat_minor": 0
}
