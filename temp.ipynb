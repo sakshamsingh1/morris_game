{
 "cells": [
  {
   "cell_type": "code",
   "execution_count": 1,
   "outputs": [],
   "source": [
    "%load_ext autoreload\n",
    "%autoreload 2"
   ],
   "metadata": {
    "collapsed": false,
    "ExecuteTime": {
     "end_time": "2023-06-27T03:32:04.509142Z",
     "start_time": "2023-06-27T03:32:04.482330Z"
    }
   }
  },
  {
   "cell_type": "code",
   "execution_count": 2,
   "metadata": {
    "collapsed": true,
    "ExecuteTime": {
     "end_time": "2023-06-27T03:32:04.527752Z",
     "start_time": "2023-06-27T03:32:04.508235Z"
    }
   },
   "outputs": [],
   "source": [
    "from morris import *"
   ]
  },
  {
   "cell_type": "code",
   "execution_count": 3,
   "outputs": [
    {
     "name": "stdout",
     "output_type": "stream",
     "text": [
      ".(18)----------------------.(19)----------------------.(20)\n",
      "|                           |                           |\n",
      "|                           |                           |\n",
      "|       .(15)--------------.(16)--------------.(17)     |\n",
      "|       |                   |                    |      |\n",
      "|       |                   |                    |      |\n",
      "|       |        B(12)-----B(13)-----.(14)       |      |\n",
      "|       |         |                   |          |      |\n",
      "|       |         |                   |          |      |\n",
      ".(06)---W(07)----W(08)               W(09)----B(10)---B(11)\n",
      "|       |         |                   |          |      |\n",
      "|       |         |                   |          |      |\n",
      "|       |        .(04)---------------W(05)       |      |\n",
      "|       |                                        |      |\n",
      "|       |                                        |      |\n",
      "|       .(02)--------------------------------B(03)      |\n",
      "|                                                       |\n",
      "|                                                       |\n",
      ".(00)-------------------------------------------------.(01)\n",
      "\n",
      "\n"
     ]
    }
   ],
   "source": [
    "# board = ['W']*24\n",
    "board = list('xxxBxWxWWWBBBBxxxxxxx')\n",
    "visualize(board)"
   ],
   "metadata": {
    "collapsed": false,
    "ExecuteTime": {
     "end_time": "2023-06-27T03:32:04.541866Z",
     "start_time": "2023-06-27T03:32:04.528088Z"
    }
   }
  },
  {
   "cell_type": "code",
   "execution_count": null,
   "outputs": [],
   "source": [],
   "metadata": {
    "collapsed": false
   }
  },
  {
   "cell_type": "code",
   "execution_count": 5,
   "outputs": [
    {
     "data": {
      "text/plain": "4"
     },
     "execution_count": 5,
     "metadata": {},
     "output_type": "execute_result"
    }
   ],
   "source": [
    "board.count('W')"
   ],
   "metadata": {
    "collapsed": false,
    "ExecuteTime": {
     "end_time": "2023-06-27T04:05:32.055020Z",
     "start_time": "2023-06-27T04:05:32.034800Z"
    }
   }
  },
  {
   "cell_type": "code",
   "execution_count": 19,
   "outputs": [],
   "source": [
    "b = board[:]"
   ],
   "metadata": {
    "collapsed": false,
    "ExecuteTime": {
     "end_time": "2023-06-26T04:38:47.164435Z",
     "start_time": "2023-06-26T04:38:47.151590Z"
    }
   }
  },
  {
   "cell_type": "code",
   "execution_count": 23,
   "outputs": [
    {
     "data": {
      "text/plain": "('BxxBxWxWWWBBBBxxxxxxx', 'xxxBxWxWWWBBBBxxxxxxx')"
     },
     "execution_count": 23,
     "metadata": {},
     "output_type": "execute_result"
    }
   ],
   "source": [
    "b[0] = 'B'\n",
    "\"\".join(b), \"\".join(board)"
   ],
   "metadata": {
    "collapsed": false,
    "ExecuteTime": {
     "end_time": "2023-06-26T04:40:19.098945Z",
     "start_time": "2023-06-26T04:40:19.080978Z"
    }
   }
  },
  {
   "cell_type": "code",
   "execution_count": 17,
   "outputs": [
    {
     "ename": "TypeError",
     "evalue": "'str' object does not support item assignment",
     "output_type": "error",
     "traceback": [
      "\u001B[0;31m---------------------------------------------------------------------------\u001B[0m",
      "\u001B[0;31mTypeError\u001B[0m                                 Traceback (most recent call last)",
      "Cell \u001B[0;32mIn[17], line 1\u001B[0m\n\u001B[0;32m----> 1\u001B[0m b[\u001B[38;5;241m0\u001B[39m]\u001B[38;5;241m=\u001B[39m\u001B[38;5;124m'\u001B[39m\u001B[38;5;124mB\u001B[39m\u001B[38;5;124m'\u001B[39m\n\u001B[1;32m      2\u001B[0m b, board\n",
      "\u001B[0;31mTypeError\u001B[0m: 'str' object does not support item assignment"
     ]
    }
   ],
   "source": [],
   "metadata": {
    "collapsed": false,
    "ExecuteTime": {
     "end_time": "2023-06-26T04:36:37.974857Z",
     "start_time": "2023-06-26T04:36:37.955659Z"
    }
   }
  },
  {
   "cell_type": "code",
   "execution_count": null,
   "outputs": [],
   "source": [],
   "metadata": {
    "collapsed": false
   }
  }
 ],
 "metadata": {
  "kernelspec": {
   "display_name": "Python 3",
   "language": "python",
   "name": "python3"
  },
  "language_info": {
   "codemirror_mode": {
    "name": "ipython",
    "version": 2
   },
   "file_extension": ".py",
   "mimetype": "text/x-python",
   "name": "python",
   "nbconvert_exporter": "python",
   "pygments_lexer": "ipython2",
   "version": "2.7.6"
  }
 },
 "nbformat": 4,
 "nbformat_minor": 0
}
